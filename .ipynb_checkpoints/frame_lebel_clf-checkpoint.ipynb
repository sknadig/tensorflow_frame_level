{
 "cells": [
  {
   "cell_type": "code",
   "execution_count": 19,
   "metadata": {},
   "outputs": [],
   "source": [
    "import json\n",
    "import kaldiio\n",
    "import numpy as np\n",
    "from sklearn.model_selection import train_test_split\n",
    "\n",
    "import tensorflow as tf\n",
    "from tensorflow.keras.layers import Dense, Flatten, Dropout, BatchNormalization\n",
    "from tensorflow.keras import Model"
   ]
  },
  {
   "cell_type": "code",
   "execution_count": 2,
   "metadata": {},
   "outputs": [],
   "source": [
    "train_json_file = \"/home/neo/MS/espnet/egs/timit/asr1/dump/train_nodev/deltafalse/data.json\"\n",
    "test_json_file = \"/home/neo/MS/espnet/egs/timit/asr1/dump/test/deltafalse/data.json\"\n",
    "dev_json_file = \"/home/neo/MS/espnet/egs/timit/asr1/dump/train_dev/deltafalse/data.json\""
   ]
  },
  {
   "cell_type": "code",
   "execution_count": 3,
   "metadata": {},
   "outputs": [],
   "source": [
    "with open(train_json_file, 'rb') as f:\n",
    "    train_json = json.load(f)['utts']\n",
    "with open(test_json_file, 'rb') as f:\n",
    "    test_json = json.load(f)['utts']\n",
    "with open(dev_json_file, 'rb') as f:\n",
    "    dev_json = json.load(f)['utts']\n",
    "\n",
    "merged = {**train_json, **test_json, **dev_json}"
   ]
  },
  {
   "cell_type": "code",
   "execution_count": 4,
   "metadata": {},
   "outputs": [],
   "source": [
    "!wget https://raw.githubusercontent.com/sknadig/kaldi/port_aligns/egs/timit/s5/alignments\n",
    "with open(\"alignments\", \"r\") as f:\n",
    "    contents = f.readlines()"
   ]
  },
  {
   "cell_type": "code",
   "execution_count": 5,
   "metadata": {},
   "outputs": [],
   "source": [
    "frame_level_dict = {}\n",
    "for row in contents:\n",
    "    row = row.strip().split(\" \")\n",
    "    uttid = row[0]\n",
    "    alignments = row[1:]\n",
    "    frame_level_dict[uttid] = alignments\n",
    "\n",
    "utt_labels = frame_level_dict.values()\n",
    "flat_labels = [val for sublist in utt_labels for val in sublist]"
   ]
  },
  {
   "cell_type": "code",
   "execution_count": 6,
   "metadata": {},
   "outputs": [],
   "source": [
    "uniq_labels = list(sorted(set(flat_labels)))\n",
    "phone_to_int = dict(zip(uniq_labels, np.arange(len(uniq_labels))))"
   ]
  },
  {
   "cell_type": "code",
   "execution_count": 7,
   "metadata": {},
   "outputs": [],
   "source": [
    "def do_cmvn(features):\n",
    "    mean = np.mean(features, axis=0)\n",
    "    std = np.std(features, axis=0)\n",
    "    normalized = (features - mean)/ std\n",
    "    return normalized"
   ]
  },
  {
   "cell_type": "code",
   "execution_count": 8,
   "metadata": {},
   "outputs": [],
   "source": [
    "full_features = []\n",
    "full_labels = []\n",
    "for i, uttid in enumerate(list(frame_level_dict.keys())):\n",
    "    for f in do_cmvn(kaldiio.load_mat(merged[uttid]['input'][0]['feat'])):\n",
    "        full_features.append(f)\n",
    "    for l in np.array([phone_to_int[ele] for ele in frame_level_dict[uttid]]):\n",
    "        full_labels.append(l)"
   ]
  },
  {
   "cell_type": "code",
   "execution_count": 9,
   "metadata": {},
   "outputs": [],
   "source": [
    "full_features = np.array(full_features)\n",
    "full_labels = np.array(full_labels)"
   ]
  },
  {
   "cell_type": "code",
   "execution_count": 10,
   "metadata": {},
   "outputs": [],
   "source": [
    "X_train, X_test, y_train, y_test = train_test_split(full_features, full_labels, test_size=0.2, random_state=1)\n",
    "X_train, X_val, y_train, y_val = train_test_split(X_train, y_train, test_size=0.2, random_state=1)"
   ]
  },
  {
   "cell_type": "code",
   "execution_count": 11,
   "metadata": {},
   "outputs": [],
   "source": [
    "def get_one_train_example():\n",
    "    for i in range(len(y_test)):\n",
    "        yield X_train[i], y_train[i]\n",
    "train_dataset = tf.data.Dataset.from_generator(get_one_train_example, (tf.float32, tf.uint16))\n",
    "train_dataset = train_dataset.shuffle(buffer_size=1000)\n",
    "train_dataset = train_dataset.batch(100)\n",
    "train_dataset = train_dataset.repeat(count=2)\n",
    "# iterator = dataset.make_one_shot_iterator()\n",
    "# x,y = iterator.get_next()"
   ]
  },
  {
   "cell_type": "code",
   "execution_count": 12,
   "metadata": {},
   "outputs": [],
   "source": [
    "def get_one_test_example():\n",
    "    for i in range(len(y_test)):\n",
    "        yield X_test[i], y_test[i]\n",
    "test_dataset = tf.data.Dataset.from_generator(get_one_test_example, (tf.float32, tf.uint16))\n",
    "test_dataset = test_dataset.shuffle(buffer_size=1000)\n",
    "test_dataset = test_dataset.batch(100)\n",
    "test_dataset = test_dataset.repeat(count=2)\n",
    "# iterator = dataset.make_one_shot_iterator()\n",
    "# x,y = iterator.get_next()"
   ]
  },
  {
   "cell_type": "code",
   "execution_count": 13,
   "metadata": {},
   "outputs": [],
   "source": [
    "class MyModel(Model):\n",
    "    def __init__(self):\n",
    "        super(MyModel, self).__init__()\n",
    "        self.l1 = Dense(512, activation='relu')\n",
    "        self.l2 = Dense(512, activation='relu')\n",
    "        self.l3 = Dense(512, activation='relu')\n",
    "        self.l4 = Dense(512, activation='relu')\n",
    "        self.l5 = Dense(512, activation='relu')\n",
    "        self.l6 = Dense(39, activation='softmax')\n",
    "\n",
    "    def call(self, x):\n",
    "        x = self.l1(x)\n",
    "        x = self.l2(x)\n",
    "        x = self.l3(x)\n",
    "        x = self.l4(x)\n",
    "        x = self.l5(x)\n",
    "        return self.l6(x)\n",
    "\n",
    "# Create an instance of the model\n",
    "model = MyModel()"
   ]
  },
  {
   "cell_type": "code",
   "execution_count": 14,
   "metadata": {},
   "outputs": [],
   "source": [
    "loss_object = tf.keras.losses.SparseCategoricalCrossentropy()\n",
    "\n",
    "optimizer = tf.keras.optimizers.Adam()"
   ]
  },
  {
   "cell_type": "code",
   "execution_count": 15,
   "metadata": {},
   "outputs": [],
   "source": [
    "train_loss = tf.keras.metrics.Mean(name='train_loss')\n",
    "train_accuracy = tf.keras.metrics.SparseCategoricalAccuracy(name='train_accuracy')\n",
    "\n",
    "test_loss = tf.keras.metrics.Mean(name='test_loss')\n",
    "test_accuracy = tf.keras.metrics.SparseCategoricalAccuracy(name='test_accuracy')"
   ]
  },
  {
   "cell_type": "code",
   "execution_count": 16,
   "metadata": {},
   "outputs": [],
   "source": [
    "@tf.function\n",
    "def train_step(features, labels):\n",
    "    with tf.GradientTape() as tape:\n",
    "        predictions = model(features)\n",
    "        loss = loss_object(labels, predictions)\n",
    "    gradients = tape.gradient(loss, model.trainable_variables)\n",
    "    optimizer.apply_gradients(zip(gradients, model.trainable_variables))\n",
    "\n",
    "    train_loss(loss)\n",
    "    train_accuracy(labels, predictions)"
   ]
  },
  {
   "cell_type": "code",
   "execution_count": 17,
   "metadata": {},
   "outputs": [],
   "source": [
    "@tf.function\n",
    "def test_step(features, labels):\n",
    "    predictions = model(features)\n",
    "    t_loss = loss_object(labels, predictions)\n",
    "\n",
    "    test_loss(t_loss)\n",
    "    test_accuracy(labels, predictions)"
   ]
  },
  {
   "cell_type": "code",
   "execution_count": 20,
   "metadata": {},
   "outputs": [
    {
     "name": "stdout",
     "output_type": "stream",
     "text": [
      "Epoch 1, Loss: 1.1696714162826538, Accuracy: 61.846763610839844, Test Loss: 1.7637540102005005, Test Accuracy: 52.72365951538086\n",
      "Epoch 2, Loss: 1.1007099151611328, Accuracy: 63.748531341552734, Test Loss: 1.8843151330947876, Test Accuracy: 52.1712646484375\n",
      "Epoch 3, Loss: 1.0425162315368652, Accuracy: 65.32373046875, Test Loss: 1.9912570714950562, Test Accuracy: 51.93873596191406\n",
      "Epoch 4, Loss: 0.9964647889137268, Accuracy: 66.80451202392578, Test Loss: 2.1132431030273438, Test Accuracy: 51.54876708984375\n",
      "Epoch 5, Loss: 0.9522615671157837, Accuracy: 68.12535095214844, Test Loss: 2.232412338256836, Test Accuracy: 51.48173141479492\n"
     ]
    }
   ],
   "source": [
    "EPOCHS = 20\n",
    "\n",
    "for epoch in range(EPOCHS):\n",
    "    for features, labels in train_dataset:\n",
    "        train_step(features, labels)\n",
    "\n",
    "    for test_features, test_labels in test_dataset:\n",
    "        test_step(test_features, test_labels)\n",
    "\n",
    "    template = 'Epoch {}, Loss: {}, Accuracy: {}, Test Loss: {}, Test Accuracy: {}'\n",
    "    print(template.format(epoch+1,\n",
    "                        train_loss.result(),\n",
    "                        train_accuracy.result()*100,\n",
    "                        test_loss.result(),\n",
    "                        test_accuracy.result()*100))\n",
    "\n",
    "    # Reset the metrics for the next epoch\n",
    "    train_loss.reset_states()\n",
    "    train_accuracy.reset_states()\n",
    "    test_loss.reset_states()\n",
    "    test_accuracy.reset_states()"
   ]
  }
 ],
 "metadata": {
  "kernelspec": {
   "display_name": "Python 3",
   "language": "python",
   "name": "python3"
  },
  "language_info": {
   "codemirror_mode": {
    "name": "ipython",
    "version": 3
   },
   "file_extension": ".py",
   "mimetype": "text/x-python",
   "name": "python",
   "nbconvert_exporter": "python",
   "pygments_lexer": "ipython3",
   "version": "3.7.3"
  }
 },
 "nbformat": 4,
 "nbformat_minor": 4
}
